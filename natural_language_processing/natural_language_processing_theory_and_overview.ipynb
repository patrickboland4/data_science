{
 "cells": [
  {
   "cell_type": "markdown",
   "metadata": {},
   "source": [
    "# Natural Language Processing"
   ]
  },
  {
   "cell_type": "markdown",
   "metadata": {},
   "source": [
    "[Wikipedia - Natural Language Processing](https://en.wikipedia.org/wiki/Natural_language_processing)"
   ]
  },
  {
   "cell_type": "markdown",
   "metadata": {},
   "source": [
    "### Example"
   ]
  },
  {
   "cell_type": "markdown",
   "metadata": {},
   "source": [
    "2 documents\n",
    "\n",
    " - \"Blue House\"\n",
    " \n",
    " - \"Red House\"\n",
    "\n",
    "___\n",
    "\n",
    "Featurize based on word count:\n",
    "\n",
    "- \"Blue House\"\n",
    "> (red,blue,house) = (0,1,1)\n",
    "- \"Red House\"\n",
    "> (red,blue,house) = (1,0,1)\n",
    "\n",
    "___\n",
    "\n",
    "A document represented as a vector of word counts is called a **\"Bag of Words\"**. \n",
    "\n",
    "This allows us to treat each document as a *vector of features*."
   ]
  },
  {
   "cell_type": "markdown",
   "metadata": {},
   "source": [
    "**Term Frequency - Inverse Document Frequency**\n",
    "\n",
    "Term Frequency\n",
    "- Importance of a term within a document\n",
    "> TF(d, t) = Number of occurrences of term t in document d\n",
    " \n",
    "Inverse Document Frequency\n",
    "- Importance of the term in corpus (collection of documents)\n",
    "> IDF(t) = log(D/t) *where*\n",
    "\n",
    "    - D = total number of documents\n",
    "    - t = number of documents with the term"
   ]
  }
 ],
 "metadata": {
  "kernelspec": {
   "display_name": "Python [Root]",
   "language": "python",
   "name": "Python [Root]"
  },
  "language_info": {
   "codemirror_mode": {
    "name": "ipython",
    "version": 3
   },
   "file_extension": ".py",
   "mimetype": "text/x-python",
   "name": "python",
   "nbconvert_exporter": "python",
   "pygments_lexer": "ipython3",
   "version": "3.5.2"
  }
 },
 "nbformat": 4,
 "nbformat_minor": 0
}
