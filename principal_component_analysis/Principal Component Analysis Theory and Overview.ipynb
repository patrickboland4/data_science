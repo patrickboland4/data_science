{
 "cells": [
  {
   "cell_type": "markdown",
   "metadata": {},
   "source": [
    "# Principal Component Analysis\n",
    "\n",
    "\n",
    "## PCA Review\n",
    "\n",
    "- PCA is an unsupervised technique used to understand the interrelations among a set of variables. This provides an underlying structure to those variables.\n",
    "- PCA is also known as **factor analysis**.\n",
    "- Where regression determines a line of best fit, PCA determines several orthogonal lines of best fit (\"at right angles\").\n",
    "    - These lines are perpendicular to eachother in n-dimensional space where n is the number of features. There are as many dimensions as there are variables\n",
    "\n",
    "**Simply:** PCA is a transformation of the data and attempts to find out what features explain the most variance in data. The process allows us to reduce the number of variables used in an analysis.\n",
    "\n",
    "**For example:**"
   ]
  },
  {
   "cell_type": "markdown",
   "metadata": {},
   "source": [
    "The greatest variance of the data set comes to lie on the first axis, the second greatest variance on the second axis, and so on. "
   ]
  },
  {
   "cell_type": "markdown",
   "metadata": {},
   "source": [
    "<img style=\"float: left;\", src=\"images/pca1.png\",width=500,height=400>"
   ]
  },
  {
   "cell_type": "markdown",
   "metadata": {},
   "source": [
    "This principle can be carried to the \"z\" number of dimensions"
   ]
  },
  {
   "cell_type": "markdown",
   "metadata": {},
   "source": [
    "<img style=\"float: left;\", src=\"images/pca2.png\",width=450,height=400>"
   ]
  },
  {
   "cell_type": "markdown",
   "metadata": {},
   "source": [
    "Additional Example"
   ]
  },
  {
   "cell_type": "markdown",
   "metadata": {},
   "source": [
    "<img src='images/PCA.png' />"
   ]
  }
 ],
 "metadata": {
  "kernelspec": {
   "display_name": "Python [Root]",
   "language": "python",
   "name": "Python [Root]"
  },
  "language_info": {
   "codemirror_mode": {
    "name": "ipython",
    "version": 3
   },
   "file_extension": ".py",
   "mimetype": "text/x-python",
   "name": "python",
   "nbconvert_exporter": "python",
   "pygments_lexer": "ipython3",
   "version": "3.5.2"
  }
 },
 "nbformat": 4,
 "nbformat_minor": 0
}
