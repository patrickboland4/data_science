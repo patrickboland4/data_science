{
 "cells": [
  {
   "cell_type": "markdown",
   "metadata": {},
   "source": [
    "### What is Spark?"
   ]
  },
  {
   "cell_type": "code",
   "execution_count": null,
   "metadata": {
    "collapsed": true
   },
   "outputs": [],
   "source": []
  },
  {
   "cell_type": "markdown",
   "metadata": {},
   "source": []
  },
  {
   "cell_type": "markdown",
   "metadata": {},
   "source": [
    "### What are some disadvantages to MapReduce?"
   ]
  },
  {
   "cell_type": "markdown",
   "metadata": {},
   "source": [
    "- Can only use data stored in HDFS\n",
    "- Writes all transformations to disk (which is slower than using memory)"
   ]
  },
  {
   "cell_type": "markdown",
   "metadata": {},
   "source": [
    "### What are some of the advantages of Spark?"
   ]
  },
  {
   "cell_type": "markdown",
   "metadata": {},
   "source": [
    "- Flexible alternative to MapReduce\n",
    "- Spark can use stored data in a variety of formats\n",
    "\n",
    "    - Cassandra\n",
    "    - AWSS3\n",
    "    - HDFS\n",
    "- Spark keeps most data in memory after each transformation\n",
    "- Spark can spill over to disk if memory is filled"
   ]
  },
  {
   "cell_type": "markdown",
   "metadata": {},
   "source": [
    "### How does Spark work"
   ]
  },
  {
   "cell_type": "markdown",
   "metadata": {},
   "source": [
    "- At the core of Spark of the idea of a Resilient Distributed Dataset (RDD)"
   ]
  },
  {
   "cell_type": "markdown",
   "metadata": {},
   "source": [
    "### What is a Resilient Distributed Dataset?"
   ]
  },
  {
   "cell_type": "markdown",
   "metadata": {},
   "source": [
    "- Has 4 main features:\n",
    "    - Distributed colleciton of data\n",
    "    - Fault Tolerant\n",
    "    - Parallel operation - partitioned\n",
    "    - Ability to use many data sources\n",
    "- RDDs are:\n",
    "    - Immutable, lazily evaluated, cacheable\n",
    "- The two main types of RDD operations include:\n",
    "    - Transformations\n",
    "    - Actions"
   ]
  },
  {
   "cell_type": "markdown",
   "metadata": {},
   "source": [
    "### What are some of the basic Actions for RDDs?"
   ]
  },
  {
   "cell_type": "markdown",
   "metadata": {},
   "source": [
    "- Collect\n",
    "    - Return all the elements of the RDD as an array at the driver program\n",
    "    \n",
    "    \n",
    "- Count\n",
    "    - Return the number of elements in the RDD\n",
    "\n",
    "\n",
    "- First\n",
    "    - Return the first element of the RDD\n",
    "\n",
    "\n",
    "- Take\n",
    "    - Return an array with the first n elements of the RDD"
   ]
  },
  {
   "cell_type": "markdown",
   "metadata": {},
   "source": [
    "### What are some of the basic Transformations?"
   ]
  },
  {
   "cell_type": "markdown",
   "metadata": {},
   "source": [
    "- Filter\n",
    "    - Applies a function to each element and return elements that evaluate to True\n",
    "    \n",
    "    \n",
    "- Map\n",
    "    - Transforms each element and preserves the number of elements\n",
    "    - This is similar to pandas `.apply()`\n",
    "    - Example:\n",
    "        - Return the first letter of a list of names\n",
    "    \n",
    "    \n",
    "- FlatMap\n",
    "    - Transforms each element into 0-N elements and changes # of elements\n",
    "    - Example:\n",
    "        - Transforming a corpus of text into a list of words"
   ]
  },
  {
   "cell_type": "markdown",
   "metadata": {},
   "source": [
    "### What are Pair RDDs?"
   ]
  },
  {
   "cell_type": "markdown",
   "metadata": {},
   "source": [
    "- Often, RDDs hold their values in tuples\n",
    "    - (key, value)\n",
    "- Results in better partitioning of data and leads to functionality based on reduction"
   ]
  },
  {
   "cell_type": "markdown",
   "metadata": {},
   "source": [
    "### What are Reduce and ReduceByKey?"
   ]
  },
  {
   "cell_type": "markdown",
   "metadata": {},
   "source": [
    "- Reduce()\n",
    "    - An action that will aggregate RDD elements using a function that return a single element\n",
    "\n",
    "\n",
    "- ReduceByKey()\n",
    "    - An action that will aggregate Pair RDD elements using a function that returns a Pair RDD\n",
    "    \n",
    "    \n",
    "- The above are similar to a GroupBy operation"
   ]
  },
  {
   "cell_type": "code",
   "execution_count": null,
   "metadata": {
    "collapsed": true
   },
   "outputs": [],
   "source": []
  }
 ],
 "metadata": {
  "kernelspec": {
   "display_name": "Python [Root]",
   "language": "python",
   "name": "Python [Root]"
  },
  "language_info": {
   "codemirror_mode": {
    "name": "ipython",
    "version": 3
   },
   "file_extension": ".py",
   "mimetype": "text/x-python",
   "name": "python",
   "nbconvert_exporter": "python",
   "pygments_lexer": "ipython3",
   "version": "3.5.2"
  }
 },
 "nbformat": 4,
 "nbformat_minor": 0
}
